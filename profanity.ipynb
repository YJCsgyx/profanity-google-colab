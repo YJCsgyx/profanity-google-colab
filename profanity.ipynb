{
  "nbformat": 4,
  "nbformat_minor": 0,
  "metadata": {
    "accelerator": "GPU",
    "colab": {
      "name": "profanity.ipynb",
      "provenance": [],
      "authorship_tag": "ABX9TyOtTYLzBfWD9Uz5FyFRU1OY",
      "include_colab_link": true
    },
    "kernelspec": {
      "display_name": "Python 3",
      "name": "python3"
    },
    "language_info": {
      "name": "python"
    }
  },
  "cells": [
    {
      "cell_type": "markdown",
      "metadata": {
        "id": "view-in-github",
        "colab_type": "text"
      },
      "source": [
        "<a href=\"https://colab.research.google.com/github/geeks121/profanity/blob/master/profanity.ipynb\" target=\"_parent\"><img src=\"https://colab.research.google.com/assets/colab-badge.svg\" alt=\"Open In Colab\"/></a>"
      ]
    },
    {
      "cell_type": "markdown",
      "metadata": {
        "id": "VwrcRHZOSq7X"
      },
      "source": [
        "\n",
        "\n",
        "```\n",
        "### Usage\n",
        "usage: ./profanity [OPTIONS]\n",
        "\n",
        "  Basic modes:\n",
        "    --benchmark             Run without any scoring, a benchmark.\n",
        "    --zeros                 Score on zeros anywhere in hash.\n",
        "    --letters               Score on letters anywhere in hash.\n",
        "    --numbers               Score on numbers anywhere in hash.\n",
        "    --mirror                Score on mirroring from center.\n",
        "    --leading-doubles       Score on hashes leading with hexadecimal pairs\n",
        "\n",
        "  Modes with arguments:\n",
        "    --leading <single hex>  Score on hashes leading with given hex character.\n",
        "    --matching <hex string> Score on hashes matching given hex string.\n",
        "\n",
        "  Advanced modes:\n",
        "    --contract              Instead of account address, score the contract\n",
        "                            address created by the account's zeroth transaction.\n",
        "    --leading-range         Scores on hashes leading with characters within\n",
        "                            given range.\n",
        "    --range                 Scores on hashes having characters within given\n",
        "                            range anywhere.\n",
        "\n",
        "  Range:\n",
        "    -m, --min <0-15>        Set range minimum (inclusive), 0 is '0' 15 is 'f'.\n",
        "    -M, --max <0-15>        Set range maximum (inclusive), 0 is '0' 15 is 'f'.\n",
        "\n",
        "  Device control:\n",
        "    -s, --skip <index>      Skip device given by index.\n",
        "    -n, --no-cache          Don't load cached pre-compiled version of kernel.\n",
        "\n",
        "  Tweaking:\n",
        "    -w, --work <size>       Set OpenCL local work size. [default = 64]\n",
        "    -W, --work-max <size>   Set OpenCL maximum work size. [default = -i * -I]\n",
        "    -i, --inverse-size      Set size of modular inverses to calculate in one\n",
        "                            work item. [default = 255]\n",
        "    -I, --inverse-multiple  Set how many above work items will run in\n",
        "                            parallell. [default = 16384]\n",
        "\n",
        "  Examples:\n",
        "    ./profanity --leading f\n",
        "    ./profanity --matching dead\n",
        "    ./profanity --matching badXXXXXXXXXXXXXXXXXXXXXXXXXXXXXXXXXXbad\n",
        "    ./profanity --leading-range -m 0 -M 1\n",
        "    ./profanity --leading-range -m 10 -M 12\n",
        "    ./profanity --range -m 0 -M 1\n",
        "    ./profanity --contract --leading 0\n",
        "\n",
        "  About:\n",
        "    profanity is a vanity address generator for Ethereum that utilizes\n",
        "    computing power from GPUs using OpenCL.\n",
        "```\n",
        "\n",
        "\n"
      ]
    },
    {
      "cell_type": "code",
      "metadata": {
        "id": "flCE7SwfCAzR"
      },
      "source": [
        "%%shell\n",
        "make"
      ],
      "execution_count": null,
      "outputs": []
    },
    {
      "cell_type": "code",
      "metadata": {
        "id": "N-VhabFp-t1W",
        "colab": {
          "base_uri": "https://localhost:8080/",
          "height": 851
        },
        "outputId": "eec53bf0-97df-4b9c-a2ec-90a37849b3a2"
      },
      "source": [
        "%%shell\n",
        "./profanity.x64 --matching 000000"
      ],
      "execution_count": 78,
      "outputs": [
        {
          "output_type": "stream",
          "text": [
            "Mode: matching\n",
            "Target: Address\n",
            "Devices:\n",
            "  GPU0: Tesla K80, 11996954624 bytes available, 13 compute units (precompiled = yes)\n",
            "\n",
            "Initializing OpenCL...\n",
            "  Creating context...OK\n",
            "  Loading kernel from binary...OK\n",
            "  Building program...OK\n",
            "\n",
            "Initializing devices...\n",
            "  This should take less than a minute. The number of objects initialized on each\n",
            "  device is equal to inverse-size * inverse-multiple. To lower\n",
            "  initialization time (and memory footprint) I suggest lowering the\n",
            "  inverse-multiple first. You can do this via the -I switch. Do note that\n",
            "  this might negatively impact your performance.\n",
            "\n",
            "  GPU0 initialized\n",
            "\n",
            "Initialization time: 10 seconds\n",
            "Running...\n",
            "  Always verify that a private key generated by this program corresponds to the\n",
            "  public key printed by importing it to a wallet of your choice. This program\n",
            "  like any software might contain bugs and it does by design cut corners to\n",
            "  improve overall performance.\n",
            "\n",
            "  Time:    10s Score:  2 Private: 0x18a2b42063cfb3898004acc4c920e07fba6d9ff100811163eca5cf3febff2725 Address: 0x9c0000f1558ae6276b71ea722d1427c6e0c13b32\n",
            "  Time:    10s Score:  3 Private: 0x18a2b42063d348a98004acc4c920e07fba6d9ff100811163eca5cf3febff2728 Address: 0x0000003bcb68dd9e16df15b3d7cf64f88da5aeba\n"
          ],
          "name": "stdout"
        },
        {
          "output_type": "error",
          "ename": "CalledProcessError",
          "evalue": "ignored",
          "traceback": [
            "\u001b[0;31m---------------------------------------------------------------------------\u001b[0m",
            "\u001b[0;31mCalledProcessError\u001b[0m                        Traceback (most recent call last)",
            "\u001b[0;32m<ipython-input-78-277aad34ae19>\u001b[0m in \u001b[0;36m<module>\u001b[0;34m()\u001b[0m\n\u001b[0;32m----> 1\u001b[0;31m \u001b[0mget_ipython\u001b[0m\u001b[0;34m(\u001b[0m\u001b[0;34m)\u001b[0m\u001b[0;34m.\u001b[0m\u001b[0mrun_cell_magic\u001b[0m\u001b[0;34m(\u001b[0m\u001b[0;34m'shell'\u001b[0m\u001b[0;34m,\u001b[0m \u001b[0;34m''\u001b[0m\u001b[0;34m,\u001b[0m \u001b[0;34m'./profanity.x64 --matching 000000'\u001b[0m\u001b[0;34m)\u001b[0m\u001b[0;34m\u001b[0m\u001b[0;34m\u001b[0m\u001b[0m\n\u001b[0m",
            "\u001b[0;32m/usr/local/lib/python3.7/dist-packages/IPython/core/interactiveshell.py\u001b[0m in \u001b[0;36mrun_cell_magic\u001b[0;34m(self, magic_name, line, cell)\u001b[0m\n\u001b[1;32m   2115\u001b[0m             \u001b[0mmagic_arg_s\u001b[0m \u001b[0;34m=\u001b[0m \u001b[0mself\u001b[0m\u001b[0;34m.\u001b[0m\u001b[0mvar_expand\u001b[0m\u001b[0;34m(\u001b[0m\u001b[0mline\u001b[0m\u001b[0;34m,\u001b[0m \u001b[0mstack_depth\u001b[0m\u001b[0;34m)\u001b[0m\u001b[0;34m\u001b[0m\u001b[0;34m\u001b[0m\u001b[0m\n\u001b[1;32m   2116\u001b[0m             \u001b[0;32mwith\u001b[0m \u001b[0mself\u001b[0m\u001b[0;34m.\u001b[0m\u001b[0mbuiltin_trap\u001b[0m\u001b[0;34m:\u001b[0m\u001b[0;34m\u001b[0m\u001b[0;34m\u001b[0m\u001b[0m\n\u001b[0;32m-> 2117\u001b[0;31m                 \u001b[0mresult\u001b[0m \u001b[0;34m=\u001b[0m \u001b[0mfn\u001b[0m\u001b[0;34m(\u001b[0m\u001b[0mmagic_arg_s\u001b[0m\u001b[0;34m,\u001b[0m \u001b[0mcell\u001b[0m\u001b[0;34m)\u001b[0m\u001b[0;34m\u001b[0m\u001b[0;34m\u001b[0m\u001b[0m\n\u001b[0m\u001b[1;32m   2118\u001b[0m             \u001b[0;32mreturn\u001b[0m \u001b[0mresult\u001b[0m\u001b[0;34m\u001b[0m\u001b[0;34m\u001b[0m\u001b[0m\n\u001b[1;32m   2119\u001b[0m \u001b[0;34m\u001b[0m\u001b[0m\n",
            "\u001b[0;32m/usr/local/lib/python3.7/dist-packages/google/colab/_system_commands.py\u001b[0m in \u001b[0;36m_shell_cell_magic\u001b[0;34m(args, cmd)\u001b[0m\n\u001b[1;32m    111\u001b[0m   \u001b[0mresult\u001b[0m \u001b[0;34m=\u001b[0m \u001b[0m_run_command\u001b[0m\u001b[0;34m(\u001b[0m\u001b[0mcmd\u001b[0m\u001b[0;34m,\u001b[0m \u001b[0mclear_streamed_output\u001b[0m\u001b[0;34m=\u001b[0m\u001b[0;32mFalse\u001b[0m\u001b[0;34m)\u001b[0m\u001b[0;34m\u001b[0m\u001b[0;34m\u001b[0m\u001b[0m\n\u001b[1;32m    112\u001b[0m   \u001b[0;32mif\u001b[0m \u001b[0;32mnot\u001b[0m \u001b[0mparsed_args\u001b[0m\u001b[0;34m.\u001b[0m\u001b[0mignore_errors\u001b[0m\u001b[0;34m:\u001b[0m\u001b[0;34m\u001b[0m\u001b[0;34m\u001b[0m\u001b[0m\n\u001b[0;32m--> 113\u001b[0;31m     \u001b[0mresult\u001b[0m\u001b[0;34m.\u001b[0m\u001b[0mcheck_returncode\u001b[0m\u001b[0;34m(\u001b[0m\u001b[0;34m)\u001b[0m\u001b[0;34m\u001b[0m\u001b[0;34m\u001b[0m\u001b[0m\n\u001b[0m\u001b[1;32m    114\u001b[0m   \u001b[0;32mreturn\u001b[0m \u001b[0mresult\u001b[0m\u001b[0;34m\u001b[0m\u001b[0;34m\u001b[0m\u001b[0m\n\u001b[1;32m    115\u001b[0m \u001b[0;34m\u001b[0m\u001b[0m\n",
            "\u001b[0;32m/usr/local/lib/python3.7/dist-packages/google/colab/_system_commands.py\u001b[0m in \u001b[0;36mcheck_returncode\u001b[0;34m(self)\u001b[0m\n\u001b[1;32m    137\u001b[0m     \u001b[0;32mif\u001b[0m \u001b[0mself\u001b[0m\u001b[0;34m.\u001b[0m\u001b[0mreturncode\u001b[0m\u001b[0;34m:\u001b[0m\u001b[0;34m\u001b[0m\u001b[0;34m\u001b[0m\u001b[0m\n\u001b[1;32m    138\u001b[0m       raise subprocess.CalledProcessError(\n\u001b[0;32m--> 139\u001b[0;31m           returncode=self.returncode, cmd=self.args, output=self.output)\n\u001b[0m\u001b[1;32m    140\u001b[0m \u001b[0;34m\u001b[0m\u001b[0m\n\u001b[1;32m    141\u001b[0m   \u001b[0;32mdef\u001b[0m \u001b[0m_repr_pretty_\u001b[0m\u001b[0;34m(\u001b[0m\u001b[0mself\u001b[0m\u001b[0;34m,\u001b[0m \u001b[0mp\u001b[0m\u001b[0;34m,\u001b[0m \u001b[0mcycle\u001b[0m\u001b[0;34m)\u001b[0m\u001b[0;34m:\u001b[0m  \u001b[0;31m# pylint:disable=unused-argument\u001b[0m\u001b[0;34m\u001b[0m\u001b[0;34m\u001b[0m\u001b[0m\n",
            "\u001b[0;31mCalledProcessError\u001b[0m: Command './profanity.x64 --matching 000000' died with <Signals.SIGINT: 2>."
          ]
        }
      ]
    }
  ]
}